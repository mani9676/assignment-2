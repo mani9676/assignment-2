{
 "cells": [
  {
   "cell_type": "markdown",
   "id": "13cd485b",
   "metadata": {},
   "source": [
    "# Q1 \n",
    "The two values of the boolean data type are \n",
    "True and False\n",
    "the starting letter i.e T in True and F in False should be capital"
   ]
  },
  {
   "cell_type": "markdown",
   "id": "142aa063",
   "metadata": {},
   "source": [
    "# Q2\n",
    "the three types of boolean operators are AND, OR and NOT"
   ]
  },
  {
   "cell_type": "markdown",
   "id": "187e6f60",
   "metadata": {},
   "source": [
    "# Q3\n",
    "A\tB\tQ\n",
    "0\t0\t0\n",
    "0\t1\t0\n",
    "1\t0\t0\n",
    "1\t1\t1\n",
    "The above truth table is AND\n",
    "A\tB\tQ\n",
    "0\t0\t0\n",
    "0\t1\t1\n",
    "1\t0\t1\n",
    "1\t1\t1\n",
    "The above truth table is OR\n",
    "A\tQ\n",
    "0\t1\n",
    "1\t0\n",
    "The above truth table is NOT\n",
    "\n"
   ]
  },
  {
   "cell_type": "code",
   "execution_count": 4,
   "id": "05174d2e",
   "metadata": {},
   "outputs": [
    {
     "data": {
      "text/plain": [
       "False"
      ]
     },
     "execution_count": 4,
     "metadata": {},
     "output_type": "execute_result"
    }
   ],
   "source": [
    "#Q4\n",
    "(5>4) and (3==5)"
   ]
  },
  {
   "cell_type": "code",
   "execution_count": 5,
   "id": "d5261bb5",
   "metadata": {},
   "outputs": [
    {
     "data": {
      "text/plain": [
       "False"
      ]
     },
     "execution_count": 5,
     "metadata": {},
     "output_type": "execute_result"
    }
   ],
   "source": [
    "not(5 > 4)"
   ]
  },
  {
   "cell_type": "code",
   "execution_count": 6,
   "id": "606046c2",
   "metadata": {},
   "outputs": [
    {
     "data": {
      "text/plain": [
       "True"
      ]
     },
     "execution_count": 6,
     "metadata": {},
     "output_type": "execute_result"
    }
   ],
   "source": [
    "(5 > 4) or (3 == 5)"
   ]
  },
  {
   "cell_type": "code",
   "execution_count": 7,
   "id": "f0f21a09",
   "metadata": {},
   "outputs": [
    {
     "data": {
      "text/plain": [
       "False"
      ]
     },
     "execution_count": 7,
     "metadata": {},
     "output_type": "execute_result"
    }
   ],
   "source": [
    "not((5 > 4) or (3 == 5))"
   ]
  },
  {
   "cell_type": "code",
   "execution_count": 8,
   "id": "ddba6617",
   "metadata": {},
   "outputs": [
    {
     "data": {
      "text/plain": [
       "False"
      ]
     },
     "execution_count": 8,
     "metadata": {},
     "output_type": "execute_result"
    }
   ],
   "source": [
    "(True and True) and (True == False)"
   ]
  },
  {
   "cell_type": "code",
   "execution_count": 10,
   "id": "a0b56bbf",
   "metadata": {},
   "outputs": [
    {
     "data": {
      "text/plain": [
       "True"
      ]
     },
     "execution_count": 10,
     "metadata": {},
     "output_type": "execute_result"
    }
   ],
   "source": [
    " (not False) or (not True)"
   ]
  },
  {
   "cell_type": "markdown",
   "id": "79f0164a",
   "metadata": {},
   "source": [
    "# Q5\n",
    "the six comparision operators are\n",
    "less than( < )\n",
    "less than or equal too( <= )\n",
    "greater than ( > )\n",
    "greater than or equal too( >= )\n",
    "equal to ( ==)\n",
    "not equal too( != )"
   ]
  },
  {
   "cell_type": "markdown",
   "id": "2c8b313c",
   "metadata": {},
   "source": [
    "# Q6\n",
    "the assignment operator \" = \" is used to assign the values to variables where variables are present on the right side of the operator and the values on the left\n",
    "eg: a=2\n",
    "the equal to \" == \" is used to compare two data or derive the relation between them. The output is the boolean datatype"
   ]
  },
  {
   "cell_type": "code",
   "execution_count": 11,
   "id": "bc716e74",
   "metadata": {},
   "outputs": [
    {
     "name": "stdout",
     "output_type": "stream",
     "text": [
      "ham\n",
      "spam\n",
      "spam\n"
     ]
    }
   ],
   "source": [
    "#Q7\n",
    "spam = 0\n",
    "if spam == 10:\n",
    "    print(\"eggs\")\n",
    "    if spam > 5:\n",
    "        print(\"bacon\")\n",
    "else:\n",
    "    print(\"ham\")\n",
    "    print(\"spam\")\n",
    "    print(\"spam\")"
   ]
  },
  {
   "cell_type": "markdown",
   "id": "43db6fe1",
   "metadata": {},
   "source": [
    "# Q7\n",
    "there are three blocks in the above code. They are \n",
    "if block \n",
    "if block and\n",
    "else block"
   ]
  },
  {
   "cell_type": "code",
   "execution_count": 13,
   "id": "3c021230",
   "metadata": {},
   "outputs": [
    {
     "name": "stdout",
     "output_type": "stream",
     "text": [
      "enter the number3\n",
      "Greetings!\n"
     ]
    }
   ],
   "source": [
    "spam =int(input(\"enter the number\"))\n",
    "if spam == 1:\n",
    "    print(\"Hello\")\n",
    "elif spam ==2:\n",
    "    print(\"Howdy\")\n",
    "else:\n",
    "    print(\"Greetings!\")"
   ]
  },
  {
   "cell_type": "markdown",
   "id": "dba73659",
   "metadata": {},
   "source": [
    "# Q9\n",
    "I will click on kernel option on the menu bar and will select restart option\n"
   ]
  },
  {
   "cell_type": "markdown",
   "id": "9e0b2982",
   "metadata": {},
   "source": [
    "# Q10\n",
    "the break statement breaks the entire loop if the condition specified in the looop is true\n",
    "\n",
    "the continue statement skip the iteration of the loop when the comdition becomes true and pass the entire control to beginning of the loop"
   ]
  },
  {
   "cell_type": "code",
   "execution_count": 15,
   "id": "2ee8ba40",
   "metadata": {},
   "outputs": [
    {
     "name": "stdout",
     "output_type": "stream",
     "text": [
      "0\n",
      "1\n",
      "2\n",
      "3\n",
      "4\n",
      "5\n",
      "6\n",
      "7\n",
      "8\n",
      "9\n"
     ]
    }
   ],
   "source": [
    "for i in range(10):\n",
    "    print(i)"
   ]
  },
  {
   "cell_type": "code",
   "execution_count": 18,
   "id": "27f3f7b1",
   "metadata": {},
   "outputs": [
    {
     "name": "stdout",
     "output_type": "stream",
     "text": [
      "0\n",
      "1\n",
      "2\n",
      "3\n",
      "4\n",
      "5\n",
      "6\n",
      "7\n",
      "8\n",
      "9\n"
     ]
    }
   ],
   "source": [
    "for i in range(0 , 10):\n",
    "    print(i)"
   ]
  },
  {
   "cell_type": "code",
   "execution_count": 17,
   "id": "9a7810bf",
   "metadata": {},
   "outputs": [
    {
     "name": "stdout",
     "output_type": "stream",
     "text": [
      "0\n",
      "1\n",
      "2\n",
      "3\n",
      "4\n",
      "5\n",
      "6\n",
      "7\n",
      "8\n",
      "9\n"
     ]
    }
   ],
   "source": [
    "for i in range(0 , 10, 1):\n",
    "    print(i)"
   ]
  },
  {
   "cell_type": "markdown",
   "id": "56cae678",
   "metadata": {},
   "source": [
    "# Q11\n",
    "there is no difference between them.\n"
   ]
  },
  {
   "cell_type": "code",
   "execution_count": 19,
   "id": "c2b3d985",
   "metadata": {},
   "outputs": [
    {
     "name": "stdout",
     "output_type": "stream",
     "text": [
      "1\n",
      "2\n",
      "3\n",
      "4\n",
      "5\n",
      "6\n",
      "7\n",
      "8\n",
      "9\n",
      "10\n"
     ]
    }
   ],
   "source": [
    "for i in range(1,11,1):\n",
    "    print(i)"
   ]
  },
  {
   "cell_type": "code",
   "execution_count": 20,
   "id": "65b12376",
   "metadata": {},
   "outputs": [
    {
     "name": "stdout",
     "output_type": "stream",
     "text": [
      "1\n",
      "2\n",
      "3\n",
      "4\n",
      "5\n",
      "6\n",
      "7\n",
      "8\n",
      "9\n",
      "10\n"
     ]
    }
   ],
   "source": [
    "n=1\n",
    "while n <= 10:\n",
    "    print(n)\n",
    "    n = n+1"
   ]
  },
  {
   "cell_type": "code",
   "execution_count": null,
   "id": "8c7e0e62",
   "metadata": {},
   "outputs": [],
   "source": []
  }
 ],
 "metadata": {
  "kernelspec": {
   "display_name": "Python 3 (ipykernel)",
   "language": "python",
   "name": "python3"
  },
  "language_info": {
   "codemirror_mode": {
    "name": "ipython",
    "version": 3
   },
   "file_extension": ".py",
   "mimetype": "text/x-python",
   "name": "python",
   "nbconvert_exporter": "python",
   "pygments_lexer": "ipython3",
   "version": "3.9.7"
  }
 },
 "nbformat": 4,
 "nbformat_minor": 5
}
